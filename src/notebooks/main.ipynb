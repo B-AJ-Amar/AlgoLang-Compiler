{
 "cells": [
  {
   "cell_type": "code",
   "execution_count": 3,
   "metadata": {},
   "outputs": [],
   "source": [
    "import string"
   ]
  },
  {
   "cell_type": "code",
   "execution_count": 28,
   "metadata": {},
   "outputs": [],
   "source": [
    "class LexicalAnalyzer:\n",
    "    def __init__(self,start ,final_states: [str] ,workflow: dict):\n",
    "        self.final_states = final_states\n",
    "        self.workflow = workflow\n",
    "        \n",
    "        self.keywords_found = []\n",
    "        self.init_state = start\n",
    "        self.state = self.init_state\n",
    "\n",
    "    def reset(self): \n",
    "        self.state = self.init_state\n",
    "\n",
    "    def feed(self, char):\n",
    "\n",
    "        if char in self.workflow[self.state]:\n",
    "            self.state = self.workflow[self.state][char]\n",
    "            \n",
    "            if self.state in self.final_states:\n",
    "                keyword = self.state.split('_')[0].lower()\n",
    "                self.keywords_found.append(keyword)\n",
    "                self.reset()  \n",
    "                \n",
    "        else:\n",
    "            raise ValueError(f\"Invalid character '{char}' in state '{self.state}'\")\n",
    "\n",
    "\n",
    "    def parse_text(self, text):\n",
    "        for char in text: \n",
    "            self.feed(char)\n",
    "        return self.keywords_found\n",
    "    \n",
    "    def read_file(self, filename):\n",
    "        with open(filename) as file:\n",
    "            text = file.read()\n",
    "        return self.parse_text(text)\n",
    "\n",
    "\n"
   ]
  },
  {
   "cell_type": "code",
   "execution_count": 29,
   "metadata": {},
   "outputs": [
    {
     "name": "stdout",
     "output_type": "stream",
     "text": [
      "State: S0, Char: d\n",
      "State: S1, Char: e\n",
      "State: S2, Char: b\n",
      "State: S3, Char: u\n",
      "State: S4, Char: t\n",
      "State: S0, Char: :\n",
      "State: S5, Char: :\n",
      "State: S6, Char: =\n",
      "State: S0, Char: <\n",
      "State: S7, Char: n\n",
      "State: S7, Char: o\n",
      "State: S7, Char: t\n",
      "State: S7, Char: e\n",
      "State: S7, Char: r\n",
      "State: S7, Char: m\n",
      "State: S7, Char: i\n",
      "State: S7, Char: n\n",
      "State: S7, Char: a\n",
      "State: S7, Char: l\n",
      "State: S7, Char: >\n",
      "Keywords found: ['debut', 'equal', 'non-terminal']\n"
     ]
    }
   ],
   "source": [
    "final_states = ['debut_FOUND', 'equal_FOUND', 'non-Terminal_FOUND']\n",
    "rules = {\n",
    "            'S0': {'d': 'S1', ':': 'S5', '<': 'S7'},\n",
    "            'S1': {'e': 'S2'},\n",
    "            'S2': {'b': 'S3'},\n",
    "            'S3': {'u': 'S4'},\n",
    "            'S4': {'t': final_states[0]},  # debut_FOUND\n",
    "            'S5': {':': 'S6'},\n",
    "            'S6': {'=': final_states[1]},  # equal_FOUND\n",
    "            \n",
    "            'S7': { \">\": final_states[2] ,**{x: 'S7' for x in string.ascii_lowercase} },\n",
    "\n",
    "            # Final states \n",
    "            **{f'{state}': {} for state in final_states}\n",
    "        }\n",
    "\n",
    "dfa = LexicalAnalyzer(\"S0\",final_states, rules)\n",
    "keywords = dfa.read_file(\"./input.txt\")\n",
    "print(\"Keywords found:\", keywords)"
   ]
  },
  {
   "cell_type": "code",
   "execution_count": null,
   "metadata": {},
   "outputs": [],
   "source": []
  }
 ],
 "metadata": {
  "kernelspec": {
   "display_name": "Python 3",
   "language": "python",
   "name": "python3"
  },
  "language_info": {
   "codemirror_mode": {
    "name": "ipython",
    "version": 3
   },
   "file_extension": ".py",
   "mimetype": "text/x-python",
   "name": "python",
   "nbconvert_exporter": "python",
   "pygments_lexer": "ipython3",
   "version": "3.12.2"
  }
 },
 "nbformat": 4,
 "nbformat_minor": 2
}
