{
 "cells": [
  {
   "cell_type": "code",
   "execution_count": 3,
   "metadata": {},
   "outputs": [],
   "source": [
    "import string"
   ]
  },
  {
   "cell_type": "code",
   "execution_count": 31,
   "metadata": {},
   "outputs": [],
   "source": [
    "class LexicalAnalyzer:\n",
    "    def __init__(self,start ,final_states: [str] ,workflow: dict):\n",
    "        self.final_states = final_states\n",
    "        self.workflow = workflow\n",
    "        \n",
    "        self.keywords_found = []\n",
    "        self.init_state = start\n",
    "        self.state = self.init_state\n",
    "        self.buffer = ''\n",
    "\n",
    "    def reset(self): \n",
    "        self.state = self.init_state\n",
    "        self.buffer = ''\n",
    "\n",
    "    def feed(self, char):\n",
    "\n",
    "        if char in self.workflow[self.state]:\n",
    "            self.state = self.workflow[self.state][char]\n",
    "            self.buffer += char\n",
    "            \n",
    "            \n",
    "            if self.state in self.final_states:\n",
    "                keyword = self.state.split('_')[0].lower()\n",
    "                self.keywords_found.append((keyword, self.buffer))\n",
    "                self.reset()  \n",
    "                \n",
    "        else:\n",
    "            raise ValueError(f\"Invalid character '{char}' in state '{self.state}'\")\n",
    "\n",
    "\n",
    "    def parse_text(self, text):\n",
    "        for char in text: \n",
    "            self.feed(char)\n",
    "        return self.keywords_found\n",
    "    \n",
    "    def read_file(self, filename):\n",
    "        with open(filename) as file:\n",
    "            text = file.read()\n",
    "        return self.parse_text(text)\n",
    "\n",
    "\n"
   ]
  },
  {
   "cell_type": "code",
   "execution_count": 32,
   "metadata": {},
   "outputs": [
    {
     "name": "stdout",
     "output_type": "stream",
     "text": [
      "Keywords found: [('debut', 'debut'), ('equal', '::='), ('non-terminal', '<noterminal>')]\n"
     ]
    }
   ],
   "source": [
    "final_states = ['debut_FOUND', 'equal_FOUND', 'non-Terminal_FOUND']\n",
    "rules = {\n",
    "            'S0': {'d': 'S1', ':': 'S5', '<': 'S7'},\n",
    "            'S1': {'e': 'S2'},\n",
    "            'S2': {'b': 'S3'},\n",
    "            'S3': {'u': 'S4'},\n",
    "            'S4': {'t': final_states[0]},  # debut_FOUND\n",
    "            'S5': {':': 'S6'},\n",
    "            'S6': {'=': final_states[1]},  # equal_FOUND\n",
    "            \n",
    "            'S7': { \">\": final_states[2] ,**{x: 'S7' for x in string.ascii_lowercase} },\n",
    "\n",
    "            # Final states \n",
    "            **{f'{state}': {} for state in final_states}\n",
    "        }\n",
    "\n",
    "la = LexicalAnalyzer(\"S0\",final_states, rules)\n",
    "keywords = la.read_file(\"./input.txt\")\n",
    "print(\"Keywords found:\", keywords)"
   ]
  },
  {
   "cell_type": "code",
   "execution_count": null,
   "metadata": {},
   "outputs": [],
   "source": []
  }
 ],
 "metadata": {
  "kernelspec": {
   "display_name": "Python 3",
   "language": "python",
   "name": "python3"
  },
  "language_info": {
   "codemirror_mode": {
    "name": "ipython",
    "version": 3
   },
   "file_extension": ".py",
   "mimetype": "text/x-python",
   "name": "python",
   "nbconvert_exporter": "python",
   "pygments_lexer": "ipython3",
   "version": "3.12.2"
  }
 },
 "nbformat": 4,
 "nbformat_minor": 2
}
